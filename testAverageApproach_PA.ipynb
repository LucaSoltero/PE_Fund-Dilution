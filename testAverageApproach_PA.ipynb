{
 "cells": [
  {
   "cell_type": "code",
   "execution_count": 20,
   "metadata": {
    "collapsed": true
   },
   "outputs": [],
   "source": [
    "import pandas as pd\n",
    "import sqlite3\n",
    "\n",
    "repo_dir = \"Your Path Here\"\n",
    "conn = sqlite3.connect(repo_dir)\n",
    "curs = conn.cursor()\n",
    "pd.set_option('display.max_columns', None)\n",
    "\n",
    "qry = \"\"\"WITH prelim AS (\n",
    "    SELECT\n",
    "        dir.dealid,\n",
    "        dir.investorfundid,\n",
    "        dir.InvestorInvestmentAmount,\n",
    "        dir.NumberOfSharesAcquired AS NumberOfSharesAcquired_DIR,\n",
    "        d.NumberOfSharesAcquired AS NumberOfSharesAcquired_D,\n",
    "        d.PercentAcquired,\n",
    "        d.DealSize,\n",
    "        d.SeriesOfStock,\n",
    "        d.DealDate,\n",
    "        d.CompanyID,\n",
    "        d.DealID\n",
    "    FROM\n",
    "        DealInvestorRelation dir\n",
    "    LEFT JOIN\n",
    "        Deal d ON dir.dealid = d.DealID\n",
    "),\n",
    "joined AS (\n",
    "    SELECT\n",
    "        p.dealid,\n",
    "        p.investorfundid,\n",
    "        p.InvestorInvestmentAmount,\n",
    "        p.NumberOfSharesAcquired_DIR,\n",
    "        p.NumberOfSharesAcquired_D,\n",
    "        p.PercentAcquired,\n",
    "        p.DealSize,\n",
    "        p.DealDate,\n",
    "        p.CompanyID,\n",
    "        p.DealID,\n",
    "        f.FundCountry,\n",
    "        CASE\n",
    "            WHEN p.SeriesOfStock LIKE '%Seed%' THEN 'Seed'\n",
    "            WHEN p.SeriesOfStock LIKE '%A%' THEN 'A'\n",
    "            WHEN p.SeriesOfStock LIKE '%B%' THEN 'B'\n",
    "            WHEN p.SeriesOfStock LIKE '%C%' THEN 'C'\n",
    "            WHEN p.SeriesOfStock LIKE '%D%' THEN 'D'\n",
    "            WHEN p.SeriesOfStock LIKE '%E%' THEN 'E'\n",
    "            WHEN p.SeriesOfStock LIKE '%F%' THEN 'F'\n",
    "            WHEN p.SeriesOfStock LIKE '%G%' THEN 'G'\n",
    "            ELSE 'Null'\n",
    "        END AS SeedType\n",
    "    FROM\n",
    "        prelim p\n",
    "    LEFT JOIN\n",
    "        Fund f ON p.investorfundid = f.fundid\n",
    "),\n",
    "seed_investment_info AS (\n",
    "    SELECT\n",
    "        *,\n",
    "        CASE\n",
    "            WHEN InvestorInvestmentAmount IS NOT NULL THEN 1\n",
    "            ELSE 0\n",
    "        END AS HasInvestedAmount\n",
    "    FROM\n",
    "        joined\n",
    "),\n",
    "ranked_investments AS (\n",
    "    SELECT\n",
    "        *,\n",
    "        ROW_NUMBER() OVER (PARTITION BY investorfundid, CompanyID ORDER BY DealDate) AS Rank\n",
    "    FROM\n",
    "        seed_investment_info\n",
    "),\n",
    "company_info AS (\n",
    "    SELECT\n",
    "        ri.*,\n",
    "        c.companyid,\n",
    "        c.GrowthRate,\n",
    "        c.HQCountry\n",
    "    FROM\n",
    "        ranked_investments ri\n",
    "    JOIN\n",
    "        Company c ON ri.CompanyID = c.companyid\n",
    ")\n",
    "SELECT\n",
    "    ci.*\n",
    "FROM\n",
    "    company_info ci\n",
    "WHERE\n",
    "    ci.InvestorInvestmentAmount IS NOT NULL\n",
    "    AND ci.FundCountry = 'United States';\"\"\"\n",
    "# query sample of interest\n",
    "\n",
    "df = pd.read_sql_query(qry, conn)\n",
    "df['DealDate'] = pd.to_datetime(df['DealDate'])\n",
    "df.rename(columns={'NumberOfSharesAcquired': 'NumberOfSharesAcquired_DIR'}, inplace=True)"
   ]
  },
  {
   "cell_type": "code",
   "execution_count": 21,
   "outputs": [
    {
     "name": "stdout",
     "output_type": "stream",
     "text": [
      "['Null' 'A' 'B' 'C' 'D' 'F' 'Seed' 'E' 'G']\n"
     ]
    }
   ],
   "source": [
    "# calculate fund pa and total shares\n",
    "df[\"TotalShares\"] = (df[\"NumberOfSharesAcquired_D\"]/df[\"PercentAcquired\"]) * 100\n",
    "df[\"FundPA\"] = (df[\"NumberOfSharesAcquired_DIR\"]/df[\"TotalShares\"]) * 100\n",
    "df[\"PredictedFundPA_0\"] = (df[\"InvestorInvestmentAmount\"]/df[\"DealSize\"]) * df[\"PercentAcquired\"]\n",
    "print(df[\"SeedType\"].unique())"
   ],
   "metadata": {
    "collapsed": false
   }
  },
  {
   "cell_type": "code",
   "execution_count": 24,
   "outputs": [
    {
     "name": "stdout",
     "output_type": "stream",
     "text": [
      "count    15315.000000\n",
      "mean        24.121277\n",
      "std         15.498438\n",
      "min          0.010000\n",
      "25%         10.815000\n",
      "50%         22.630000\n",
      "75%         33.330000\n",
      "max         94.340000\n",
      "Name: PercentAcquired, dtype: float64\n"
     ]
    }
   ],
   "source": [
    "# get distribution of percent acquired\n",
    "distribution = df[\"PercentAcquired\"].describe()\n",
    "print(distribution)"
   ],
   "metadata": {
    "collapsed": false
   }
  },
  {
   "cell_type": "code",
   "execution_count": 25,
   "outputs": [
    {
     "data": {
      "text/plain": "<Figure size 1000x600 with 1 Axes>",
      "image/png": "[encoded data removed]"
     },
     "metadata": {},
     "output_type": "display_data"
    }
   ],
   "source": [
    "# graph results\n",
    "import matplotlib.pyplot as plt\n",
    "plt.figure(figsize=(10, 6))\n",
    "plt.hist(df[\"PercentAcquired\"], bins=30, color='skyblue', edgecolor='black')\n",
    "plt.xlabel('Deal Size')\n",
    "plt.ylabel('Frequency')\n",
    "plt.title('Distribution of Percent Acquired')\n",
    "plt.grid(True)\n",
    "plt.show()"
   ],
   "metadata": {
    "collapsed": false
   }
  },
  {
   "cell_type": "code",
   "execution_count": 22,
   "outputs": [
    {
     "name": "stdout",
     "output_type": "stream",
     "text": [
      "Distribution of Error using Series  None Average\n",
      "count    1559.000000\n",
      "mean        3.650690\n",
      "std        16.640181\n",
      "min         0.000171\n",
      "25%         0.419432\n",
      "50%         1.291993\n",
      "75%         3.872300\n",
      "max       620.601604\n",
      "Name: AVG_error, dtype: float64\n",
      "Distribution of Error using Series  Seed Average\n",
      "count    64.000000\n",
      "mean      2.475401\n",
      "std       3.960029\n",
      "min       0.008655\n",
      "25%       0.372738\n",
      "50%       1.148493\n",
      "75%       2.511020\n",
      "max      23.678029\n",
      "Name: AVG_error, dtype: float64\n",
      "Distribution of Error using Series  A Average\n",
      "count    401.000000\n",
      "mean       3.532348\n",
      "std        5.030415\n",
      "min        0.001987\n",
      "25%        0.383748\n",
      "50%        1.599647\n",
      "75%        4.714266\n",
      "max       39.340301\n",
      "Name: AVG_error, dtype: float64\n",
      "Distribution of Error using Series  B Average\n",
      "count    298.000000\n",
      "mean       2.185808\n",
      "std        3.037347\n",
      "min        0.001618\n",
      "25%        0.351099\n",
      "50%        1.041111\n",
      "75%        2.770881\n",
      "max       22.210651\n",
      "Name: AVG_error, dtype: float64\n",
      "Distribution of Error using Series  C Average\n",
      "count    190.000000\n",
      "mean       2.322307\n",
      "std        4.388715\n",
      "min        0.005486\n",
      "25%        0.356969\n",
      "50%        0.879775\n",
      "75%        2.650482\n",
      "max       49.722631\n",
      "Name: AVG_error, dtype: float64\n",
      "Distribution of Error using Series  D Average\n",
      "count    164.000000\n",
      "mean       1.735385\n",
      "std        2.839903\n",
      "min        0.001791\n",
      "25%        0.246247\n",
      "50%        0.606519\n",
      "75%        2.024651\n",
      "max       21.235721\n",
      "Name: AVG_error, dtype: float64\n",
      "Distribution of Error using Series  E Average\n",
      "count    85.000000\n",
      "mean      1.681449\n",
      "std       2.327498\n",
      "min       0.002994\n",
      "25%       0.379819\n",
      "50%       0.945913\n",
      "75%       2.289456\n",
      "max      14.567488\n",
      "Name: AVG_error, dtype: float64\n",
      "Distribution of Error using Series  F Average\n",
      "count     42.000000\n",
      "mean       9.982857\n",
      "std       45.604977\n",
      "min        0.008960\n",
      "25%        0.066034\n",
      "50%        0.196500\n",
      "75%        0.807917\n",
      "max      278.377156\n",
      "Name: AVG_error, dtype: float64\n",
      "Distribution of Error using Series  G Average\n",
      "count    16.000000\n",
      "mean      1.275981\n",
      "std       2.115915\n",
      "min       0.053750\n",
      "25%       0.087459\n",
      "50%       0.331840\n",
      "75%       1.574330\n",
      "max       8.023529\n",
      "Name: AVG_error, dtype: float64\n"
     ]
    },
    {
     "name": "stderr",
     "output_type": "stream",
     "text": [
      "/var/folders/f7/8j3xs5s170n8xsjr45rg2bzm0000gn/T/ipykernel_25539/3418971306.py:10: SettingWithCopyWarning: \n",
      "A value is trying to be set on a copy of a slice from a DataFrame.\n",
      "Try using .loc[row_indexer,col_indexer] = value instead\n",
      "\n",
      "See the caveats in the documentation: https://pandas.pydata.org/pandas-docs/stable/user_guide/indexing.html#returning-a-view-versus-a-copy\n",
      "  dfA[\"PredictedAVG\"] =  (dfA[\"InvestorInvestmentAmount\"]/dfA[\"DealSize\"]) * mean\n",
      "/var/folders/f7/8j3xs5s170n8xsjr45rg2bzm0000gn/T/ipykernel_25539/3418971306.py:12: SettingWithCopyWarning: \n",
      "A value is trying to be set on a copy of a slice from a DataFrame.\n",
      "Try using .loc[row_indexer,col_indexer] = value instead\n",
      "\n",
      "See the caveats in the documentation: https://pandas.pydata.org/pandas-docs/stable/user_guide/indexing.html#returning-a-view-versus-a-copy\n",
      "  dfA[\"AVG_error\"] =  (dfA[\"PredictedAVG\"] - dfA[\"FundPA\"]).abs()\n"
     ]
    }
   ],
   "source": [
    "# now we finetune for funding round. Iterate through seedtypes and get distribution of error from real values using this approach\n",
    "seedTypes = ['None','Seed','A', 'B', 'C', 'D','E', 'F', 'G']\n",
    "\n",
    "for seed in seedTypes:\n",
    "    if seed == 'None':\n",
    "        dfA = df\n",
    "    else:\n",
    "        dfA = df[df[\"SeedType\"] == seed]\n",
    "    mean = dfA[\"PercentAcquired\"].mean()\n",
    "    dfA = dfA.dropna(subset=[\"FundPA\" , \"InvestorInvestmentAmount\", \"DealSize\"])\n",
    "    dfA[\"PredictedAVG\"] =  (dfA[\"InvestorInvestmentAmount\"]/dfA[\"DealSize\"]) * mean\n",
    "    print(\"Distribution of Error using Series \", seed, \"Average\")\n",
    "    dfA[\"AVG_error\"] =  (dfA[\"PredictedAVG\"] - dfA[\"FundPA\"]).abs()\n",
    "    #   print(mean)\n",
    "    print(dfA[\"AVG_error\"].describe())"
   ],
   "metadata": {
    "collapsed": false
   }
  },
  {
   "cell_type": "code",
   "execution_count": 22,
   "outputs": [],
   "source": [
    "conn.close()"
   ],
   "metadata": {
    "collapsed": false
   }
  }
 ],
 "metadata": {
  "kernelspec": {
   "display_name": "Python 3",
   "language": "python",
   "name": "python3"
  },
  "language_info": {
   "codemirror_mode": {
    "name": "ipython",
    "version": 2
   },
   "file_extension": ".py",
   "mimetype": "text/x-python",
   "name": "python",
   "nbconvert_exporter": "python",
   "pygments_lexer": "ipython2",
   "version": "2.7.6"
  }
 },
 "nbformat": 4,
 "nbformat_minor": 0
}
